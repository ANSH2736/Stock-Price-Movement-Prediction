{
 "cells": [
  {
   "cell_type": "code",
   "execution_count": null,
   "id": "30a7b87b",
   "metadata": {},
   "outputs": [],
   "source": [
    "\n",
    "import pandas as pd\n",
    "from sklearn.model_selection import train_test_split\n",
    "from sklearn.ensemble import RandomForestClassifier\n",
    "from sklearn.linear_model import LogisticRegression\n",
    "from xgboost import XGBClassifier\n",
    "from sklearn.metrics import accuracy_score, confusion_matrix\n",
    "import pickle\n",
    "\n",
    "# Load and prepare data\n",
    "df = pd.read_csv(\"data/AAPL_data.csv\")\n",
    "df = compute_technical_indicators(df)\n",
    "# Create target: 1 if next day's Close is higher, else 0\n",
    "df['Target'] = (df['Close'].shift(-1) > df['Close']).astype(int)\n",
    "df.dropna(inplace=True)\n",
    "\n",
    "features = ['Close', 'Volume', 'MA20', 'MA50', 'RSI', 'MACD', 'Signal']\n",
    "X = df[features]\n",
    "y = df['Target']\n",
    "\n",
    "# Split into train/test\n",
    "X_train, X_test, y_train, y_test = train_test_split(X, y, test_size=0.2, shuffle=False)\n",
    "\n",
    "# Train Random Forest\n",
    "rf = RandomForestClassifier(n_estimators=100, random_state=42)\n",
    "rf.fit(X_train, y_train)\n",
    "y_pred_rf = rf.predict(X_test)\n",
    "acc_rf = accuracy_score(y_test, y_pred_rf)\n",
    "cm_rf = confusion_matrix(y_test, y_pred_rf)\n",
    "\n",
    "print(f\"Random Forest Accuracy: {acc_rf:.2f}\")\n",
    "print(\"Confusion Matrix:\\n\", cm_rf)\n",
    "\n",
    "# (Optional) Train Logistic Regression\n",
    "lr = LogisticRegression(max_iter=1000)\n",
    "lr.fit(X_train, y_train)\n",
    "print(\"Logistic Regression Accuracy:\", accuracy_score(y_test, lr.predict(X_test)))\n",
    "\n",
    "# (Optional) Train XGBoost\n",
    "xgb = XGBClassifier(use_label_encoder=False, eval_metric='logloss')\n",
    "xgb.fit(X_train, y_train)\n",
    "print(\"XGBoost Accuracy:\", accuracy_score(y_test, xgb.predict(X_test)))\n",
    "\n",
    "# Save models\n",
    "pickle.dump(rf, open(\"models/random_forest_model.pkl\", 'wb'))\n",
    "pickle.dump(xgb, open(\"models/xgboost_model.pkl\", 'wb'))\n",
    "pickle.dump(lr, open(\"models/logistic_model.pkl\", 'wb'))\n"
   ]
  }
 ],
 "metadata": {
  "language_info": {
   "name": "python"
  }
 },
 "nbformat": 4,
 "nbformat_minor": 5
}
